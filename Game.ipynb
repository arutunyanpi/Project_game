{
 "cells": [
  {
   "cell_type": "markdown",
   "id": "9b9724fd",
   "metadata": {},
   "source": [
    "# Игра крестики нолики"
   ]
  },
  {
   "cell_type": "markdown",
   "id": "e789b85f",
   "metadata": {},
   "source": [
    "## Выбор стороны"
   ]
  },
  {
   "cell_type": "code",
   "execution_count": 15,
   "id": "c4db4ca3",
   "metadata": {},
   "outputs": [],
   "source": [
    "def check_side():\n",
    "    gamer1=''\n",
    "    while gamer1=='':\n",
    "        value=input('Выберите сторону \"Х\" или \"О\"?')\n",
    "        if (value in 'ХО'):\n",
    "            gamer1=value\n",
    "            print(f\"Хороший выбор, Вы играете {value}-ми!\")\n",
    "    return(gamer1)"
   ]
  },
  {
   "cell_type": "markdown",
   "id": "13188bd0",
   "metadata": {},
   "source": [
    "## Отображение поля"
   ]
  },
  {
   "cell_type": "code",
   "execution_count": 21,
   "id": "8ef254b9",
   "metadata": {},
   "outputs": [],
   "source": [
    "def draw_area(area):\n",
    "    for cell in :\n",
    "        if \n",
    "        print('|')\n",
    "        print('____')"
   ]
  },
  {
   "cell_type": "code",
   "execution_count": 22,
   "id": "9f3ca787",
   "metadata": {},
   "outputs": [
    {
     "name": "stdout",
     "output_type": "stream",
     "text": [
      "Выберите сторону \"Х\" или \"О\"?Х\n",
      "Хороший выбор, Вы играете Х-ми!\n",
      "|\n",
      "____\n",
      "|\n",
      "____\n",
      "|\n",
      "____\n"
     ]
    }
   ],
   "source": [
    "game_area=[[0,0,0],[0,0,0],[0,0,0]]\n",
    "game_bord=[]\n",
    "G1 = check_side()\n",
    "draw_area(game_area)\n"
   ]
  },
  {
   "cell_type": "code",
   "execution_count": null,
   "id": "0158cc0d",
   "metadata": {},
   "outputs": [],
   "source": []
  }
 ],
 "metadata": {
  "kernelspec": {
   "display_name": "Python 3 (ipykernel)",
   "language": "python",
   "name": "python3"
  },
  "language_info": {
   "codemirror_mode": {
    "name": "ipython",
    "version": 3
   },
   "file_extension": ".py",
   "mimetype": "text/x-python",
   "name": "python",
   "nbconvert_exporter": "python",
   "pygments_lexer": "ipython3",
   "version": "3.10.10"
  }
 },
 "nbformat": 4,
 "nbformat_minor": 5
}
